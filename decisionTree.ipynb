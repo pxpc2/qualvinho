{
  "nbformat": 4,
  "nbformat_minor": 0,
  "metadata": {
    "colab": {
      "provenance": [],
      "authorship_tag": "ABX9TyMSUI9yeTo5U7hKR+Me1Gme",
      "include_colab_link": true
    },
    "kernelspec": {
      "name": "python3",
      "display_name": "Python 3"
    },
    "language_info": {
      "name": "python"
    }
  },
  "cells": [
    {
      "cell_type": "markdown",
      "metadata": {
        "id": "view-in-github",
        "colab_type": "text"
      },
      "source": [
        "<a href=\"https://colab.research.google.com/github/pxpc2/qualvinho/blob/main/decisionTree.ipynb\" target=\"_parent\"><img src=\"https://colab.research.google.com/assets/colab-badge.svg\" alt=\"Open In Colab\"/></a>"
      ]
    },
    {
      "cell_type": "code",
      "execution_count": 1,
      "metadata": {
        "colab": {
          "base_uri": "https://localhost:8080/"
        },
        "id": "hWMKeT-MaGSh",
        "outputId": "eca4a03c-8634-4cb0-887d-5af41b3928b6"
      },
      "outputs": [
        {
          "output_type": "stream",
          "name": "stdout",
          "text": [
            "\u001b[2K     \u001b[90m━━━━━━━━━━━━━━━━━━━━━━━━━━━━━━━━━━━━━━\u001b[0m \u001b[32m719.8/719.8 kB\u001b[0m \u001b[31m13.4 MB/s\u001b[0m eta \u001b[36m0:00:00\u001b[0m\n",
            "\u001b[2K     \u001b[90m━━━━━━━━━━━━━━━━━━━━━━━━━━━━━━━━━━━━━━━━\u001b[0m \u001b[32m7.5/7.5 MB\u001b[0m \u001b[31m67.9 MB/s\u001b[0m eta \u001b[36m0:00:00\u001b[0m\n",
            "\u001b[2K     \u001b[90m━━━━━━━━━━━━━━━━━━━━━━━━━━━━━━━━━━━━━━\u001b[0m \u001b[32m519.3/519.3 kB\u001b[0m \u001b[31m46.6 MB/s\u001b[0m eta \u001b[36m0:00:00\u001b[0m\n",
            "\u001b[2K     \u001b[90m━━━━━━━━━━━━━━━━━━━━━━━━━━━━━━━━━━━━━━━━\u001b[0m \u001b[32m1.3/1.3 MB\u001b[0m \u001b[31m67.9 MB/s\u001b[0m eta \u001b[36m0:00:00\u001b[0m\n",
            "\u001b[2K     \u001b[90m━━━━━━━━━━━━━━━━━━━━━━━━━━━━━━━━━━━━━━\u001b[0m \u001b[32m115.3/115.3 kB\u001b[0m \u001b[31m12.9 MB/s\u001b[0m eta \u001b[36m0:00:00\u001b[0m\n",
            "\u001b[2K     \u001b[90m━━━━━━━━━━━━━━━━━━━━━━━━━━━━━━━━━━━━━━\u001b[0m \u001b[32m194.1/194.1 kB\u001b[0m \u001b[31m16.7 MB/s\u001b[0m eta \u001b[36m0:00:00\u001b[0m\n",
            "\u001b[2K     \u001b[90m━━━━━━━━━━━━━━━━━━━━━━━━━━━━━━━━━━━━━━\u001b[0m \u001b[32m134.8/134.8 kB\u001b[0m \u001b[31m10.9 MB/s\u001b[0m eta \u001b[36m0:00:00\u001b[0m\n",
            "\u001b[2K     \u001b[90m━━━━━━━━━━━━━━━━━━━━━━━━━━━━━━━━━━━━━━\u001b[0m \u001b[32m268.8/268.8 kB\u001b[0m \u001b[31m22.2 MB/s\u001b[0m eta \u001b[36m0:00:00\u001b[0m\n",
            "\u001b[2K     \u001b[90m━━━━━━━━━━━━━━━━━━━━━━━━━━━━━━━━━━━━━━━━\u001b[0m \u001b[32m7.8/7.8 MB\u001b[0m \u001b[31m117.9 MB/s\u001b[0m eta \u001b[36m0:00:00\u001b[0m\n",
            "\u001b[2K     \u001b[90m━━━━━━━━━━━━━━━━━━━━━━━━━━━━━━━━━━━━━━━━\u001b[0m \u001b[32m1.3/1.3 MB\u001b[0m \u001b[31m73.0 MB/s\u001b[0m eta \u001b[36m0:00:00\u001b[0m\n",
            "\u001b[2K     \u001b[90m━━━━━━━━━━━━━━━━━━━━━━━━━━━━━━━━━━━━━━━━\u001b[0m \u001b[32m1.6/1.6 MB\u001b[0m \u001b[31m80.2 MB/s\u001b[0m eta \u001b[36m0:00:00\u001b[0m\n",
            "\u001b[?25hMounted at /content/gdrive\n"
          ]
        }
      ],
      "source": [
        "! [ -e /content ] && pip install -Uqq fastbook\n",
        "import fastbook\n",
        "fastbook.setup_book()\n",
        "\n",
        "from fastbook import *\n",
        "from fastai.collab import *\n",
        "from fastai.tabular.all import *"
      ]
    },
    {
      "cell_type": "code",
      "source": [
        "wines = pd.read_csv('/content/gdrive/MyDrive/XWines_Slim/XWines_Slim_1K_wines.csv',\n",
        "                    usecols=['WineID', 'WineName', 'Type', 'Grapes',\n",
        "                             'Body', 'Harmonize', 'Acidity', 'ABV', 'Code', 'Country', 'Elaborate', 'WineryName'],\n",
        "                     delimiter=',', header=None, skiprows=1, low_memory=False,\n",
        "                    names=['WineID', 'WineName', 'Type', 'Elaborate', 'Grapes',\n",
        "                           'Harmonize', 'ABV', 'Body', 'Acidity', 'Code',\n",
        "                           'Country', 'RegionID', 'RegionName', 'WineryID',\n",
        "                           'WineryName','Website', 'Vintages'],\n",
        "                    dtype={'WineID': int, 'WineName': str, 'Type': str,\n",
        "                           'Grapes': str, 'Harmonize': str, 'Body': str,\n",
        "                           'Acidity': str, 'ABV': str,\n",
        "                           'Code': str, 'Elaborate': str, 'Country': str, 'WineryName': str})\n",
        "\n",
        "\n",
        "\n",
        "ratings = pd.read_csv('/content/gdrive/MyDrive/XWines_Slim/XWines_Slim_150K_ratings.csv',\n",
        "                      usecols=['UserID', 'WineID', 'Rating'],\n",
        "                      delimiter=',', header=None, skiprows=1, low_memory=False,\n",
        "                      names=['RatingID', 'UserID', 'WineID', 'Vintage', 'Rating', 'Date'],\n",
        "                      dtype={'UserID': int, 'WineID': int, 'Rating': float})"
      ],
      "metadata": {
        "id": "ZY7hrk95aZmf"
      },
      "execution_count": 30,
      "outputs": []
    },
    {
      "cell_type": "code",
      "source": [
        "df = ratings.merge(wines)\n",
        "df.columns"
      ],
      "metadata": {
        "colab": {
          "base_uri": "https://localhost:8080/"
        },
        "id": "mjtfqauCbP63",
        "outputId": "70134bc4-5405-4fcc-ddb1-1ed37c70efe8"
      },
      "execution_count": 31,
      "outputs": [
        {
          "output_type": "execute_result",
          "data": {
            "text/plain": [
              "Index(['UserID', 'WineID', 'Rating', 'WineName', 'Type', 'Elaborate', 'Grapes',\n",
              "       'Harmonize', 'ABV', 'Body', 'Acidity', 'Code', 'Country', 'WineryName'],\n",
              "      dtype='object')"
            ]
          },
          "metadata": {},
          "execution_count": 31
        }
      ]
    },
    {
      "cell_type": "code",
      "source": [
        "df['Body'].unique()"
      ],
      "metadata": {
        "colab": {
          "base_uri": "https://localhost:8080/"
        },
        "id": "CqvJbtozbTIa",
        "outputId": "f773d0f5-b2b3-455e-8420-0630d863b121"
      },
      "execution_count": 10,
      "outputs": [
        {
          "output_type": "execute_result",
          "data": {
            "text/plain": [
              "array(['Very full-bodied', 'Full-bodied', 'Medium-bodied', 'Light-bodied', 'Very light-bodied'], dtype=object)"
            ]
          },
          "metadata": {},
          "execution_count": 10
        }
      ]
    },
    {
      "cell_type": "code",
      "source": [
        "df['Rating'].unique()"
      ],
      "metadata": {
        "colab": {
          "base_uri": "https://localhost:8080/"
        },
        "id": "ztyDsN9YbglF",
        "outputId": "d840cfd6-c7c9-4127-acc6-4652821ae55f"
      },
      "execution_count": 17,
      "outputs": [
        {
          "output_type": "execute_result",
          "data": {
            "text/plain": [
              "array([4.5, 4. , 3.5, 5. , 3. , 1. , 2. , 2.5, 1.5])"
            ]
          },
          "metadata": {},
          "execution_count": 17
        }
      ]
    },
    {
      "cell_type": "code",
      "source": [
        "dep_var = 'Rating'"
      ],
      "metadata": {
        "id": "SCPQ--nEdU3R"
      },
      "execution_count": 19,
      "outputs": []
    },
    {
      "cell_type": "code",
      "source": [
        "procs = [Categorify, FillMissing]"
      ],
      "metadata": {
        "id": "p6fg401lbwT0"
      },
      "execution_count": 20,
      "outputs": []
    },
    {
      "cell_type": "code",
      "source": [
        "splits = RandomSplitter(seed=42)(df)"
      ],
      "metadata": {
        "id": "G8Gip0aVdZJX"
      },
      "execution_count": 32,
      "outputs": []
    },
    {
      "cell_type": "code",
      "source": [
        "cont,cat = cont_cat_split(df, 1, dep_var=dep_var)\n",
        "to = TabularPandas(df, procs, cat, cont, y_names=dep_var, splits=splits)"
      ],
      "metadata": {
        "id": "-bMSQ4Z0d-Wv"
      },
      "execution_count": 33,
      "outputs": []
    },
    {
      "cell_type": "code",
      "source": [
        "len(to.train),len(to.valid)"
      ],
      "metadata": {
        "colab": {
          "base_uri": "https://localhost:8080/"
        },
        "id": "Y-pgVi81e1gu",
        "outputId": "62f84055-baee-48e5-cad6-9c3cf1101054"
      },
      "execution_count": 34,
      "outputs": [
        {
          "output_type": "execute_result",
          "data": {
            "text/plain": [
              "(120000, 30000)"
            ]
          },
          "metadata": {},
          "execution_count": 34
        }
      ]
    },
    {
      "cell_type": "code",
      "source": [
        "to.show(3)"
      ],
      "metadata": {
        "colab": {
          "base_uri": "https://localhost:8080/",
          "height": 143
        },
        "id": "lx-R2k_2e3pl",
        "outputId": "9e18f21d-155a-46f7-bfda-bb65a1372d74"
      },
      "execution_count": 35,
      "outputs": [
        {
          "output_type": "display_data",
          "data": {
            "text/plain": [
              "<IPython.core.display.HTML object>"
            ],
            "text/html": [
              "<table border=\"1\" class=\"dataframe\">\n",
              "  <thead>\n",
              "    <tr style=\"text-align: right;\">\n",
              "      <th></th>\n",
              "      <th>WineName</th>\n",
              "      <th>Type</th>\n",
              "      <th>Elaborate</th>\n",
              "      <th>Grapes</th>\n",
              "      <th>Harmonize</th>\n",
              "      <th>ABV</th>\n",
              "      <th>Body</th>\n",
              "      <th>Acidity</th>\n",
              "      <th>Code</th>\n",
              "      <th>Country</th>\n",
              "      <th>WineryName</th>\n",
              "      <th>UserID</th>\n",
              "      <th>WineID</th>\n",
              "      <th>Rating</th>\n",
              "    </tr>\n",
              "  </thead>\n",
              "  <tbody>\n",
              "    <tr>\n",
              "      <th>137355</th>\n",
              "      <td>Unwooded Pinot Noir</td>\n",
              "      <td>Red</td>\n",
              "      <td>Varietal/100%</td>\n",
              "      <td>['Pinot Noir']</td>\n",
              "      <td>['Beef', 'Veal', 'Game Meat', 'Poultry']</td>\n",
              "      <td>12.5</td>\n",
              "      <td>Medium-bodied</td>\n",
              "      <td>High</td>\n",
              "      <td>ZA</td>\n",
              "      <td>South Africa</td>\n",
              "      <td>Haute Cabrière</td>\n",
              "      <td>1149843</td>\n",
              "      <td>171438</td>\n",
              "      <td>3.5</td>\n",
              "    </tr>\n",
              "    <tr>\n",
              "      <th>35229</th>\n",
              "      <td>Hemisferio Reserva Carmenère</td>\n",
              "      <td>Red</td>\n",
              "      <td>Varietal/100%</td>\n",
              "      <td>['Carmenère']</td>\n",
              "      <td>['Beef', 'Pasta', 'Lamb', 'Poultry']</td>\n",
              "      <td>13.0</td>\n",
              "      <td>Full-bodied</td>\n",
              "      <td>High</td>\n",
              "      <td>CL</td>\n",
              "      <td>Chile</td>\n",
              "      <td>Miguel Torres Chile</td>\n",
              "      <td>1200644</td>\n",
              "      <td>162756</td>\n",
              "      <td>2.5</td>\n",
              "    </tr>\n",
              "    <tr>\n",
              "      <th>96428</th>\n",
              "      <td>Malbec</td>\n",
              "      <td>Red</td>\n",
              "      <td>Varietal/100%</td>\n",
              "      <td>['Malbec']</td>\n",
              "      <td>['Beef', 'Lamb', 'Poultry']</td>\n",
              "      <td>13.9</td>\n",
              "      <td>Very full-bodied</td>\n",
              "      <td>High</td>\n",
              "      <td>AR</td>\n",
              "      <td>Argentina</td>\n",
              "      <td>La Linda</td>\n",
              "      <td>1284340</td>\n",
              "      <td>167425</td>\n",
              "      <td>3.0</td>\n",
              "    </tr>\n",
              "  </tbody>\n",
              "</table>"
            ]
          },
          "metadata": {}
        }
      ]
    },
    {
      "cell_type": "code",
      "source": [
        "to.items.head(3)"
      ],
      "metadata": {
        "colab": {
          "base_uri": "https://localhost:8080/",
          "height": 143
        },
        "id": "gYRjuuryfCEZ",
        "outputId": "e21c06ad-58db-426b-d9d9-304f50f7a949"
      },
      "execution_count": 36,
      "outputs": [
        {
          "output_type": "execute_result",
          "data": {
            "text/plain": [
              "         UserID  WineID  Rating  WineName  Type  Elaborate  Grapes  Harmonize  \\\n",
              "137355  1149843  171438     3.5       751     3         12     194         80   \n",
              "35229   1200644  162756     2.5       348     3         12      60         63   \n",
              "96428   1284340  167425     3.0       423     3         12     134         43   \n",
              "\n",
              "        ABV  Body  Acidity  Code  Country  WineryName  \n",
              "137355   15     3        1    31       24         372  \n",
              "35229    20     1        1     7        6         511  \n",
              "96428    29     4        1     1        1         434  "
            ],
            "text/html": [
              "\n",
              "  <div id=\"df-68d40b89-a105-4326-8752-959839c4d96a\" class=\"colab-df-container\">\n",
              "    <div>\n",
              "<style scoped>\n",
              "    .dataframe tbody tr th:only-of-type {\n",
              "        vertical-align: middle;\n",
              "    }\n",
              "\n",
              "    .dataframe tbody tr th {\n",
              "        vertical-align: top;\n",
              "    }\n",
              "\n",
              "    .dataframe thead th {\n",
              "        text-align: right;\n",
              "    }\n",
              "</style>\n",
              "<table border=\"1\" class=\"dataframe\">\n",
              "  <thead>\n",
              "    <tr style=\"text-align: right;\">\n",
              "      <th></th>\n",
              "      <th>UserID</th>\n",
              "      <th>WineID</th>\n",
              "      <th>Rating</th>\n",
              "      <th>WineName</th>\n",
              "      <th>Type</th>\n",
              "      <th>Elaborate</th>\n",
              "      <th>Grapes</th>\n",
              "      <th>Harmonize</th>\n",
              "      <th>ABV</th>\n",
              "      <th>Body</th>\n",
              "      <th>Acidity</th>\n",
              "      <th>Code</th>\n",
              "      <th>Country</th>\n",
              "      <th>WineryName</th>\n",
              "    </tr>\n",
              "  </thead>\n",
              "  <tbody>\n",
              "    <tr>\n",
              "      <th>137355</th>\n",
              "      <td>1149843</td>\n",
              "      <td>171438</td>\n",
              "      <td>3.5</td>\n",
              "      <td>751</td>\n",
              "      <td>3</td>\n",
              "      <td>12</td>\n",
              "      <td>194</td>\n",
              "      <td>80</td>\n",
              "      <td>15</td>\n",
              "      <td>3</td>\n",
              "      <td>1</td>\n",
              "      <td>31</td>\n",
              "      <td>24</td>\n",
              "      <td>372</td>\n",
              "    </tr>\n",
              "    <tr>\n",
              "      <th>35229</th>\n",
              "      <td>1200644</td>\n",
              "      <td>162756</td>\n",
              "      <td>2.5</td>\n",
              "      <td>348</td>\n",
              "      <td>3</td>\n",
              "      <td>12</td>\n",
              "      <td>60</td>\n",
              "      <td>63</td>\n",
              "      <td>20</td>\n",
              "      <td>1</td>\n",
              "      <td>1</td>\n",
              "      <td>7</td>\n",
              "      <td>6</td>\n",
              "      <td>511</td>\n",
              "    </tr>\n",
              "    <tr>\n",
              "      <th>96428</th>\n",
              "      <td>1284340</td>\n",
              "      <td>167425</td>\n",
              "      <td>3.0</td>\n",
              "      <td>423</td>\n",
              "      <td>3</td>\n",
              "      <td>12</td>\n",
              "      <td>134</td>\n",
              "      <td>43</td>\n",
              "      <td>29</td>\n",
              "      <td>4</td>\n",
              "      <td>1</td>\n",
              "      <td>1</td>\n",
              "      <td>1</td>\n",
              "      <td>434</td>\n",
              "    </tr>\n",
              "  </tbody>\n",
              "</table>\n",
              "</div>\n",
              "    <div class=\"colab-df-buttons\">\n",
              "\n",
              "  <div class=\"colab-df-container\">\n",
              "    <button class=\"colab-df-convert\" onclick=\"convertToInteractive('df-68d40b89-a105-4326-8752-959839c4d96a')\"\n",
              "            title=\"Convert this dataframe to an interactive table.\"\n",
              "            style=\"display:none;\">\n",
              "\n",
              "  <svg xmlns=\"http://www.w3.org/2000/svg\" height=\"24px\" viewBox=\"0 -960 960 960\">\n",
              "    <path d=\"M120-120v-720h720v720H120Zm60-500h600v-160H180v160Zm220 220h160v-160H400v160Zm0 220h160v-160H400v160ZM180-400h160v-160H180v160Zm440 0h160v-160H620v160ZM180-180h160v-160H180v160Zm440 0h160v-160H620v160Z\"/>\n",
              "  </svg>\n",
              "    </button>\n",
              "\n",
              "  <style>\n",
              "    .colab-df-container {\n",
              "      display:flex;\n",
              "      gap: 12px;\n",
              "    }\n",
              "\n",
              "    .colab-df-convert {\n",
              "      background-color: #E8F0FE;\n",
              "      border: none;\n",
              "      border-radius: 50%;\n",
              "      cursor: pointer;\n",
              "      display: none;\n",
              "      fill: #1967D2;\n",
              "      height: 32px;\n",
              "      padding: 0 0 0 0;\n",
              "      width: 32px;\n",
              "    }\n",
              "\n",
              "    .colab-df-convert:hover {\n",
              "      background-color: #E2EBFA;\n",
              "      box-shadow: 0px 1px 2px rgba(60, 64, 67, 0.3), 0px 1px 3px 1px rgba(60, 64, 67, 0.15);\n",
              "      fill: #174EA6;\n",
              "    }\n",
              "\n",
              "    .colab-df-buttons div {\n",
              "      margin-bottom: 4px;\n",
              "    }\n",
              "\n",
              "    [theme=dark] .colab-df-convert {\n",
              "      background-color: #3B4455;\n",
              "      fill: #D2E3FC;\n",
              "    }\n",
              "\n",
              "    [theme=dark] .colab-df-convert:hover {\n",
              "      background-color: #434B5C;\n",
              "      box-shadow: 0px 1px 3px 1px rgba(0, 0, 0, 0.15);\n",
              "      filter: drop-shadow(0px 1px 2px rgba(0, 0, 0, 0.3));\n",
              "      fill: #FFFFFF;\n",
              "    }\n",
              "  </style>\n",
              "\n",
              "    <script>\n",
              "      const buttonEl =\n",
              "        document.querySelector('#df-68d40b89-a105-4326-8752-959839c4d96a button.colab-df-convert');\n",
              "      buttonEl.style.display =\n",
              "        google.colab.kernel.accessAllowed ? 'block' : 'none';\n",
              "\n",
              "      async function convertToInteractive(key) {\n",
              "        const element = document.querySelector('#df-68d40b89-a105-4326-8752-959839c4d96a');\n",
              "        const dataTable =\n",
              "          await google.colab.kernel.invokeFunction('convertToInteractive',\n",
              "                                                    [key], {});\n",
              "        if (!dataTable) return;\n",
              "\n",
              "        const docLinkHtml = 'Like what you see? Visit the ' +\n",
              "          '<a target=\"_blank\" href=https://colab.research.google.com/notebooks/data_table.ipynb>data table notebook</a>'\n",
              "          + ' to learn more about interactive tables.';\n",
              "        element.innerHTML = '';\n",
              "        dataTable['output_type'] = 'display_data';\n",
              "        await google.colab.output.renderOutput(dataTable, element);\n",
              "        const docLink = document.createElement('div');\n",
              "        docLink.innerHTML = docLinkHtml;\n",
              "        element.appendChild(docLink);\n",
              "      }\n",
              "    </script>\n",
              "  </div>\n",
              "\n",
              "    </div>\n",
              "  </div>\n"
            ]
          },
          "metadata": {},
          "execution_count": 36
        }
      ]
    },
    {
      "cell_type": "code",
      "source": [],
      "metadata": {
        "id": "CZXmQeC8fjDW"
      },
      "execution_count": null,
      "outputs": []
    }
  ]
}